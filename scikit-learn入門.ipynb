{
 "cells": [
  {
   "cell_type": "markdown",
   "id": "0820c635",
   "metadata": {},
   "source": [
    "# 1. Scikit-learnのインストール"
   ]
  },
  {
   "cell_type": "code",
   "execution_count": 1,
   "id": "157e038b",
   "metadata": {
    "ExecuteTime": {
     "end_time": "2023-05-07T07:37:06.511801Z",
     "start_time": "2023-05-07T07:37:06.500278Z"
    }
   },
   "outputs": [],
   "source": [
    "!pip install scikit-learn"
   ]
  },
  {
   "cell_type": "markdown",
   "id": "f07c580a",
   "metadata": {},
   "source": [
    "# 2. データの読み込みと前処理"
   ]
  },
  {
   "cell_type": "code",
   "execution_count": 2,
   "id": "073c564b",
   "metadata": {
    "ExecuteTime": {
     "end_time": "2023-05-07T07:37:07.676558Z",
     "start_time": "2023-05-07T07:37:06.517806Z"
    }
   },
   "outputs": [],
   "source": [
    "from sklearn import datasets\n",
    "\n",
    "breast_cancer = datasets.load_breast_cancer()\n",
    "X = breast_cancer.data\n",
    "y = breast_cancer.target\n"
   ]
  },
  {
   "cell_type": "code",
   "execution_count": 3,
   "id": "043efe73",
   "metadata": {
    "ExecuteTime": {
     "end_time": "2023-05-07T07:37:07.754899Z",
     "start_time": "2023-05-07T07:37:07.682109Z"
    }
   },
   "outputs": [],
   "source": [
    "from sklearn.model_selection import train_test_split\n",
    "\n",
    "X_train, X_test, y_train, y_test = train_test_split(X, y, test_size=0.2, random_state=42)\n"
   ]
  },
  {
   "cell_type": "markdown",
   "id": "b1ac8699",
   "metadata": {},
   "source": [
    "# 3. モデルの選択と訓練"
   ]
  },
  {
   "cell_type": "code",
   "execution_count": 4,
   "id": "67b24d2c",
   "metadata": {
    "ExecuteTime": {
     "end_time": "2023-05-07T07:37:07.911814Z",
     "start_time": "2023-05-07T07:37:07.758894Z"
    }
   },
   "outputs": [
    {
     "data": {
      "text/plain": [
       "DecisionTreeClassifier()"
      ]
     },
     "execution_count": 4,
     "metadata": {},
     "output_type": "execute_result"
    }
   ],
   "source": [
    "from sklearn.tree import DecisionTreeClassifier\n",
    "\n",
    "clf = DecisionTreeClassifier()\n",
    "clf.fit(X_train, y_train)\n"
   ]
  },
  {
   "cell_type": "markdown",
   "id": "b5b547ef",
   "metadata": {},
   "source": [
    "# 4. モデルの評価"
   ]
  },
  {
   "cell_type": "code",
   "execution_count": 5,
   "id": "259ae44f",
   "metadata": {
    "ExecuteTime": {
     "end_time": "2023-05-07T07:37:07.941973Z",
     "start_time": "2023-05-07T07:37:07.915807Z"
    }
   },
   "outputs": [
    {
     "name": "stdout",
     "output_type": "stream",
     "text": [
      "Accuracy: 0.9385964912280702\n"
     ]
    }
   ],
   "source": [
    "from sklearn.metrics import accuracy_score\n",
    "\n",
    "y_pred = clf.predict(X_test)\n",
    "acc = accuracy_score(y_test, y_pred)\n",
    "print(\"Accuracy:\", acc)\n"
   ]
  },
  {
   "cell_type": "markdown",
   "id": "6429ed2b",
   "metadata": {},
   "source": [
    "# 5. モデルの保存と読み込み"
   ]
  },
  {
   "cell_type": "code",
   "execution_count": 6,
   "id": "0d6cb587",
   "metadata": {
    "ExecuteTime": {
     "end_time": "2023-05-07T07:37:07.957589Z",
     "start_time": "2023-05-07T07:37:07.944854Z"
    }
   },
   "outputs": [],
   "source": [
    "!pip install joblib"
   ]
  },
  {
   "cell_type": "code",
   "execution_count": 7,
   "id": "1859747c",
   "metadata": {
    "ExecuteTime": {
     "end_time": "2023-05-07T07:37:08.004380Z",
     "start_time": "2023-05-07T07:37:07.965137Z"
    }
   },
   "outputs": [
    {
     "name": "stdout",
     "output_type": "stream",
     "text": [
      "Accuracy: 0.9385964912280702\n"
     ]
    }
   ],
   "source": [
    "import joblib\n",
    "\n",
    "# モデルの保存\n",
    "joblib.dump(clf, 'model.pkl')\n",
    "\n",
    "# モデルの読み込み\n",
    "loaded_clf = joblib.load('model.pkl')\n",
    "\n",
    "# 読み込んだモデルで予測\n",
    "y_pred = loaded_clf.predict(X_test)\n",
    "acc = accuracy_score(y_test, y_pred)\n",
    "print(\"Accuracy:\", acc)\n"
   ]
  },
  {
   "cell_type": "markdown",
   "id": "918d8a00",
   "metadata": {},
   "source": [
    "# 6. ハイパーパラメータチューニング"
   ]
  },
  {
   "cell_type": "code",
   "execution_count": 8,
   "id": "14092be0",
   "metadata": {
    "ExecuteTime": {
     "end_time": "2023-05-07T07:37:08.470004Z",
     "start_time": "2023-05-07T07:37:08.008984Z"
    }
   },
   "outputs": [
    {
     "name": "stdout",
     "output_type": "stream",
     "text": [
      "Best parameters: {'max_depth': 3, 'min_samples_split': 4}\n",
      "Accuracy: 0.9473684210526315\n"
     ]
    }
   ],
   "source": [
    "from sklearn.model_selection import GridSearchCV\n",
    "\n",
    "param_grid = {'max_depth': [2, 3, 4, 5],\n",
    "              'min_samples_split': [2, 3, 4, 5]}\n",
    "\n",
    "grid_search = GridSearchCV(DecisionTreeClassifier(), param_grid, cv=5, scoring='accuracy')\n",
    "\n",
    "grid_search.fit(X_train, y_train)\n",
    "\n",
    "# 最適なハイパーパラメータの組み合わせを表示\n",
    "print(\"Best parameters:\", grid_search.best_params_)\n",
    "\n",
    "# 最適なハイパーパラメータで訓練されたモデルを取得\n",
    "best_clf = grid_search.best_estimator_\n",
    "\n",
    "# モデルの評価\n",
    "y_pred = best_clf.predict(X_test)\n",
    "acc = accuracy_score(y_test, y_pred)\n",
    "print(\"Accuracy:\", acc)\n"
   ]
  },
  {
   "cell_type": "code",
   "execution_count": null,
   "id": "64c052dd",
   "metadata": {},
   "outputs": [],
   "source": []
  }
 ],
 "metadata": {
  "kernelspec": {
   "display_name": "Python 3 (ipykernel)",
   "language": "python",
   "name": "python3"
  },
  "language_info": {
   "codemirror_mode": {
    "name": "ipython",
    "version": 3
   },
   "file_extension": ".py",
   "mimetype": "text/x-python",
   "name": "python",
   "nbconvert_exporter": "python",
   "pygments_lexer": "ipython3",
   "version": "3.9.13"
  },
  "varInspector": {
   "cols": {
    "lenName": 16,
    "lenType": 16,
    "lenVar": 40
   },
   "kernels_config": {
    "python": {
     "delete_cmd_postfix": "",
     "delete_cmd_prefix": "del ",
     "library": "var_list.py",
     "varRefreshCmd": "print(var_dic_list())"
    },
    "r": {
     "delete_cmd_postfix": ") ",
     "delete_cmd_prefix": "rm(",
     "library": "var_list.r",
     "varRefreshCmd": "cat(var_dic_list()) "
    }
   },
   "types_to_exclude": [
    "module",
    "function",
    "builtin_function_or_method",
    "instance",
    "_Feature"
   ],
   "window_display": false
  }
 },
 "nbformat": 4,
 "nbformat_minor": 5
}
